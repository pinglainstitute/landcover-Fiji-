{
  "cells": [
    {
      "cell_type": "code",
      "execution_count": null,
      "metadata": {
        "id": "ytnUYDXk4TkY"
      },
      "outputs": [],
      "source": [
        "!pip install contextily\n",
        "!pip install pyrsgis"
      ]
    },
    {
      "cell_type": "code",
      "execution_count": null,
      "metadata": {
        "id": "nLZ4BSuY49oG"
      },
      "outputs": [],
      "source": [
        "import contextily as cx\n",
        "from ipywidgets import interact\n",
        "from math import floor\n",
        "import matplotlib as mpl\n",
        "import matplotlib.cm as cm\n",
        "import matplotlib.pyplot as plt\n",
        "from matplotlib.ticker import FormatStrFormatter, MaxNLocator\n",
        "from mpl_toolkits.axes_grid1 import make_axes_locatable\n",
        "import numpy as np\n",
        "import pandas as pd\n",
        "from pyrsgis import raster\n",
        "from pyrsgis.convert import array_to_table\n",
        "from pyrsgis.ml import imageChipsFromArray\n",
        "import random\n",
        "import seaborn as sns\n",
        "from sklearn.metrics import accuracy_score, auc, confusion_matrix, f1_score, precision_score, recall_score, roc_auc_score, roc_curve\n",
        "from sklearn.model_selection import train_test_split\n",
        "from sklearn.preprocessing import StandardScaler, MinMaxScaler\n",
        "from sklearn.svm import SVC\n",
        "from statistics import mean\n",
        "import tensorflow as tf\n",
        "from tensorflow.keras.layers import Input, Dense\n",
        "from tensorflow.keras.models import Model, Sequential"
      ]
    },
    {
      "cell_type": "code",
      "execution_count": null,
      "metadata": {
        "id": "vza5CckXj8v2"
      },
      "outputs": [],
      "source": [
        "from google.colab import drive\n",
        "drive.mount('/content/drive')"
      ]
    },
    {
      "cell_type": "code",
      "execution_count": null,
      "metadata": {
        "id": "l8XN85CUhtIv"
      },
      "outputs": [],
      "source": [
        "# file names\n",
        "feature_file = '/content/drive/MyDrive/Nadi_data_new/2013_original.tif'\n",
        "# read the image\n",
        "dsFeatures, arrFeatures = raster.read(feature_file, bands='all')\n",
        "min_x = dsFeatures.bbox[0][0]\n",
        "max_x = dsFeatures.bbox[1][0]\n",
        "min_y = dsFeatures.bbox[0][1]\n",
        "max_y = dsFeatures.bbox[1][1]\n",
        "\n",
        "extent = [min_x, max_x, min_y, max_y]"
      ]
    },
    {
      "cell_type": "code",
      "execution_count": null,
      "metadata": {
        "id": "m9jjeIUPh24H"
      },
      "outputs": [],
      "source": [
        "extent"
      ]
    },
    {
      "cell_type": "code",
      "execution_count": null,
      "metadata": {
        "id": "oI_ew7jch7yf"
      },
      "outputs": [],
      "source": [
        "arrFeatures.shape"
      ]
    },
    {
      "cell_type": "code",
      "execution_count": null,
      "metadata": {
        "id": "n92II3OFiAhW"
      },
      "outputs": [],
      "source": [
        "import copy\n",
        "from copy import deepcopy\n",
        "from sklearn.feature_extraction import image"
      ]
    },
    {
      "cell_type": "code",
      "execution_count": null,
      "metadata": {
        "id": "i691vGDbiBVw"
      },
      "outputs": [],
      "source": [
        "def imageChipsFromSingleBandArray(data_arr, y_size=5, x_size=5):\n",
        "    image_chips = deepcopy(data_arr)\n",
        "    image_chips = np.pad(image_chips, (int(y_size/2),int(x_size/2)), 'reflect')\n",
        "    image_chips = image.extract_patches_2d(image_chips, (y_size, x_size))\n",
        "\n",
        "    return(image_chips)\n",
        "def imageChipsFromArray_update(data_array, x_size=5, y_size=5):\n",
        "\n",
        "    # if array is a single band image\n",
        "    if len(data_array.shape) == 2:\n",
        "        return(imageChipsFromSingleBandArray(data_array, x_size=x_size, y_size=y_size))\n",
        "\n",
        "    # if array is a multi band image\n",
        "    elif len(data_array.shape) > 2:\n",
        "        data_array = copy.copy(data_array)\n",
        "        data_array = np.rollaxis(data_array, 0, 3)\n",
        "\n",
        "        for band in range(data_array.shape[2]):\n",
        "            temp_array = imageChipsFromSingleBandArray(data_array[:, :, band], x_size=x_size, y_size=y_size)\n",
        "\n",
        "            if band == 0:\n",
        "                out_array = np.expand_dims(temp_array, axis=3)\n",
        "            else:\n",
        "                out_array = np.concatenate((out_array, np.expand_dims(temp_array, axis=3)), axis=3)\n",
        "\n",
        "        return(out_array)\n",
        "\n",
        "    # if shape of the image is less than two dimensions, raise error\n",
        "    else:\n",
        "        raise Exception(\"Sorry, only two or three dimensional arrays allowed.\")"
      ]
    },
    {
      "cell_type": "code",
      "execution_count": null,
      "metadata": {
        "id": "MGt4cnfuiG9v"
      },
      "outputs": [],
      "source": [
        "# normalize the image and generate chips\n",
        "arrFeatures_fuzzy = np.zeros(arrFeatures.shape)\n",
        "\n",
        "for i in range(arrFeatures.shape[0]):\n",
        "    bandMin = arrFeatures[i, :, :].min()\n",
        "    bandMax = arrFeatures[i, :, :].max()\n",
        "    bandRange = bandMax-bandMin\n",
        "    for j in range(arrFeatures.shape[1]):\n",
        "        for k in range(arrFeatures.shape[2]):\n",
        "            arrFeatures_fuzzy[i, j, k] = (arrFeatures[i, j, k]-bandMin)/bandRange\n",
        "\n",
        "#create chips using pyrsgis\n",
        "#features_chips = imageChipsFromArray(arrFeatures_fuzzy, x_size=7, y_size=7)\n",
        "features_chips = imageChipsFromArray_update(arrFeatures_fuzzy, x_size=9, y_size=9)"
      ]
    },
    {
      "cell_type": "code",
      "execution_count": null,
      "metadata": {
        "id": "_dntCCs6iLsJ"
      },
      "outputs": [],
      "source": [
        "features_chips.shape"
      ]
    },
    {
      "cell_type": "code",
      "execution_count": null,
      "metadata": {
        "id": "JeudlMh1UuCA"
      },
      "outputs": [],
      "source": [
        "features_chips=features_chips.reshape(638040,9*9*10)"
      ]
    },
    {
      "cell_type": "code",
      "execution_count": null,
      "metadata": {
        "id": "vhxx4jAfU5AF"
      },
      "outputs": [],
      "source": [
        "features_chips.shape"
      ]
    },
    {
      "cell_type": "markdown",
      "metadata": {
        "id": "ZmvkEn2liOqH"
      },
      "source": [
        "*****"
      ]
    },
    {
      "cell_type": "markdown",
      "metadata": {
        "id": "eqqIJ3H1iS9P"
      },
      "source": [
        "**2013_Training datast**"
      ]
    },
    {
      "cell_type": "code",
      "execution_count": null,
      "metadata": {
        "id": "qJ98mE0riYIX"
      },
      "outputs": [],
      "source": [
        "positiveLabel_file = '/content/drive/MyDrive/Nadi_data_new/Label_2013_Nadi_1750_samples.tif'\n",
        "dsPositiveLabels, arrPositiveLabels = raster.read(positiveLabel_file,bands='all')\n",
        "n_class_pos = len(np.unique(arrPositiveLabels))"
      ]
    },
    {
      "cell_type": "code",
      "execution_count": null,
      "metadata": {
        "id": "trnlFO2DvOmb"
      },
      "outputs": [],
      "source": [
        "n_class_pos"
      ]
    },
    {
      "cell_type": "code",
      "execution_count": null,
      "metadata": {
        "id": "KEMuE_PfvTFI"
      },
      "outputs": [],
      "source": [
        "arrPositiveLabels=arrPositiveLabels+1\n",
        "np.unique(arrPositiveLabels)"
      ]
    },
    {
      "cell_type": "code",
      "execution_count": null,
      "metadata": {
        "id": "rTEsKan_vVmU"
      },
      "outputs": [],
      "source": [
        "# generate random samples\n",
        "nonZero_count = np.count_nonzero(arrPositiveLabels)\n",
        "index = np.transpose(np.where(arrPositiveLabels==0))\n",
        "index = index.astype(int)\n",
        "randomIndex = random.sample(range(index.shape[0]), int(nonZero_count/(n_class_pos-1)))\n",
        "arrNegativeLabels = np.zeros(arrPositiveLabels.shape)\n",
        "\n",
        "for i in range(len(randomIndex)):\n",
        "    arrNegativeLabels[index[randomIndex[i], 0], index[randomIndex[i], 1]] = n_class_pos # max value of labels plus one which equals n_class\n",
        "\n",
        "arrPositiveLabels_flat = arrPositiveLabels.flatten()\n",
        "arrNegativeLabels_flat = arrNegativeLabels.flatten()\n",
        "# separate and balance the classes\n",
        "positiveFeatures = features_chips[arrPositiveLabels_flat!=0]\n",
        "positiveLabels = arrPositiveLabels_flat[arrPositiveLabels_flat!=0]\n",
        "\n",
        "features=positiveFeatures\n",
        "labels=positiveLabels"
      ]
    },
    {
      "cell_type": "code",
      "source": [
        "len(features_chips[arrPositiveLabels_flat==6])"
      ],
      "metadata": {
        "id": "ouY1Kq5dWuFO"
      },
      "execution_count": null,
      "outputs": []
    },
    {
      "cell_type": "code",
      "source": [
        "temp = 250-91"
      ],
      "metadata": {
        "id": "D_jvpVzDWuB1"
      },
      "execution_count": null,
      "outputs": []
    },
    {
      "cell_type": "code",
      "source": [
        "from sklearn.utils import resample\n",
        "coastal_upsample = resample(features_chips[arrPositiveLabels_flat==6],\n",
        "             replace=True,\n",
        "             n_samples=temp,\n",
        "             random_state=42)"
      ],
      "metadata": {
        "id": "Qq70S_DXWt-z"
      },
      "execution_count": null,
      "outputs": []
    },
    {
      "cell_type": "code",
      "source": [
        "coastal_upsample.shape"
      ],
      "metadata": {
        "id": "uOG8Hk_ZWt76"
      },
      "execution_count": null,
      "outputs": []
    },
    {
      "cell_type": "code",
      "source": [
        "arr = np.concatenate((features, coastal_upsample), axis=0)"
      ],
      "metadata": {
        "id": "r1LsMCDfWt40"
      },
      "execution_count": null,
      "outputs": []
    },
    {
      "cell_type": "code",
      "source": [
        "features=arr"
      ],
      "metadata": {
        "id": "ekZJkENNWt1S"
      },
      "execution_count": null,
      "outputs": []
    },
    {
      "cell_type": "code",
      "source": [
        "coastal_label=[6]*temp"
      ],
      "metadata": {
        "id": "JjTDGZhfWttP"
      },
      "execution_count": null,
      "outputs": []
    },
    {
      "cell_type": "code",
      "source": [
        "type(coastal_label)"
      ],
      "metadata": {
        "id": "7ISpYFvMWtaP"
      },
      "execution_count": null,
      "outputs": []
    },
    {
      "cell_type": "code",
      "source": [
        "new_label=np.concatenate((labels,coastal_label),axis=0)"
      ],
      "metadata": {
        "id": "m2rnPoHpXA9k"
      },
      "execution_count": null,
      "outputs": []
    },
    {
      "cell_type": "code",
      "source": [
        "labels=new_label"
      ],
      "metadata": {
        "id": "rJfC1omKXDtE"
      },
      "execution_count": null,
      "outputs": []
    },
    {
      "cell_type": "code",
      "source": [
        "np.unique(labels)"
      ],
      "metadata": {
        "id": "MfNGrze4XAql"
      },
      "execution_count": null,
      "outputs": []
    },
    {
      "cell_type": "code",
      "execution_count": null,
      "metadata": {
        "id": "kVFxqcavvgk6"
      },
      "outputs": [],
      "source": [
        "labels=labels-1"
      ]
    },
    {
      "cell_type": "code",
      "execution_count": null,
      "metadata": {
        "id": "N2GdRRJKvpIE"
      },
      "outputs": [],
      "source": [
        "n_class_pos = len(np.unique(labels))\n",
        "print(n_class_pos)"
      ]
    },
    {
      "cell_type": "code",
      "execution_count": null,
      "metadata": {
        "id": "e2sEoiqWvrtF"
      },
      "outputs": [],
      "source": [
        "labels_df=pd.DataFrame()\n",
        "labels_df['labels']=labels\n",
        "labels_df['labels'].value_counts()"
      ]
    },
    {
      "cell_type": "markdown",
      "metadata": {
        "id": "rEfJrwFfjGbv"
      },
      "source": [
        "****"
      ]
    },
    {
      "cell_type": "markdown",
      "metadata": {
        "id": "lF6r_3opjKEI"
      },
      "source": [
        "**Split**"
      ]
    },
    {
      "cell_type": "code",
      "execution_count": null,
      "metadata": {
        "id": "NN9V7y78No7z"
      },
      "outputs": [],
      "source": [
        "# # define a function to split features and labels\n",
        "def train_test_split(features, labels, n_class_pos=n_class_pos, trainProp=0.7):\n",
        "    labels_df=pd.DataFrame()\n",
        "    labels_df['labels']=labels\n",
        "    labels_df.reset_index(inplace=True)\n",
        "    labels_df['labels']=labels_df['labels'].astype(int)\n",
        "\n",
        "    train_list=[]\n",
        "    test_list=[]\n",
        "    for class_index in range(n_class_pos):\n",
        "      sub_labels_df=labels_df[labels_df['labels'] == class_index ]\n",
        "      dataSize=len(sub_labels_df['index'])\n",
        "      sliceIndex = int(dataSize*trainProp)\n",
        "      randIndex = list(sub_labels_df['index'])\n",
        "      #random.seed(45)\n",
        "      random.shuffle(randIndex)\n",
        "\n",
        "      sub_train_list=randIndex[:sliceIndex]\n",
        "      train_list = train_list + sub_train_list\n",
        "\n",
        "      sub_test_list=randIndex[sliceIndex:]\n",
        "      test_list = test_list + sub_test_list\n",
        "\n",
        "    train_x = features[[train_list], :][0]\n",
        "    test_x = features[[test_list], :][0]\n",
        "    train_y = labels[train_list]\n",
        "    test_y = labels[test_list]\n",
        "    return(train_x, train_y, test_x, test_y)\n",
        "\n",
        "# call the function to split the dataset\n",
        "train_x, train_y, test_x, test_y = train_test_split(features, labels)"
      ]
    },
    {
      "cell_type": "code",
      "execution_count": null,
      "metadata": {
        "id": "goWBQu5RGKnW"
      },
      "outputs": [],
      "source": [
        "train_y_df=pd.DataFrame()\n",
        "train_y_df['labels']=train_y\n",
        "train_y_df['labels'].value_counts()"
      ]
    },
    {
      "cell_type": "code",
      "execution_count": null,
      "metadata": {
        "id": "DQkOhh-iv6k3"
      },
      "outputs": [],
      "source": [
        "test_y_df=pd.DataFrame()\n",
        "test_y_df['labels']=test_y\n",
        "test_y_df['labels'].value_counts()"
      ]
    },
    {
      "cell_type": "code",
      "execution_count": null,
      "metadata": {
        "id": "lfsqzDp0TpKv"
      },
      "outputs": [],
      "source": [
        "train_x.shape"
      ]
    },
    {
      "cell_type": "code",
      "execution_count": null,
      "metadata": {
        "id": "iRBxdP4KUc5y"
      },
      "outputs": [],
      "source": [
        "train_y.shape"
      ]
    },
    {
      "cell_type": "markdown",
      "metadata": {
        "id": "-mTlTycljlYH"
      },
      "source": [
        "****"
      ]
    },
    {
      "cell_type": "markdown",
      "metadata": {
        "id": "bOB4TFsKjoAQ"
      },
      "source": [
        "**Model**"
      ]
    },
    {
      "cell_type": "code",
      "execution_count": null,
      "metadata": {
        "id": "HUs2tsruVNih"
      },
      "outputs": [],
      "source": [
        "import numpy as np\n",
        "import matplotlib.pyplot as plt\n",
        "from sklearn.ensemble import RandomForestClassifier\n",
        "from sklearn.datasets import load_digits\n",
        "from sklearn.metrics import confusion_matrix\n",
        "import seaborn as sns"
      ]
    },
    {
      "cell_type": "code",
      "execution_count": null,
      "metadata": {
        "id": "v8frBj9YVP8h"
      },
      "outputs": [],
      "source": [
        "# Create a Random Forest Classifier\n",
        "rf_classifier = RandomForestClassifier(n_estimators=100, min_samples_leaf= 3,random_state=42)\n",
        "\n",
        "# Train the classifier\n",
        "rf_classifier.fit(train_x, train_y)\n",
        "\n",
        "# Make predictions on the test set\n",
        "predictions = rf_classifier.predict(test_x)\n",
        "\n",
        "# Generate the confusion matrix\n",
        "cm = confusion_matrix(test_y, predictions)\n",
        "\n",
        "target_names=[0,1,2,3,4,5,6]\n",
        "# Plot the confusion matrix\n",
        "plt.figure(figsize=(10, 8))\n",
        "sns.heatmap(cm, annot=True, cmap=\"Blues\", fmt=\"d\", xticklabels=target_names, yticklabels=target_names)\n",
        "plt.title(\"Confusion Matrix\")\n",
        "plt.xlabel(\"Predicted Label\")\n",
        "plt.ylabel(\"True Label\")\n",
        "plt.show()"
      ]
    },
    {
      "cell_type": "code",
      "execution_count": null,
      "metadata": {
        "id": "FY1uouUeVcpk"
      },
      "outputs": [],
      "source": [
        "accuracy = accuracy_score(test_y, predictions)\n",
        "precision = precision_score(test_y, predictions,average='macro')\n",
        "recall = recall_score(test_y, predictions,average='macro')\n",
        "f1 = f1_score(test_y, predictions,average='macro')\n",
        "\n",
        "print(\"Accuracy:\", accuracy)\n",
        "print(\"Precision:\", precision)\n",
        "print(\"Recall:\", recall)\n",
        "print(\"f1:\", f1)"
      ]
    },
    {
      "cell_type": "code",
      "execution_count": null,
      "metadata": {
        "id": "_XkU7J0bVgD7"
      },
      "outputs": [],
      "source": [
        "arr_prediction=rf_classifier.predict(features_chips)\n",
        "arr_prediction.shape"
      ]
    },
    {
      "cell_type": "code",
      "execution_count": null,
      "metadata": {
        "id": "S3CCGjuiVt0Z"
      },
      "outputs": [],
      "source": [
        "rf_prediction_arr=arr_prediction.reshape(780, 818)\n",
        "rf_prediction_arr.shape"
      ]
    },
    {
      "cell_type": "code",
      "execution_count": null,
      "metadata": {
        "id": "4Gx-H0f-VzYq"
      },
      "outputs": [],
      "source": [
        "fig, ax = plt.subplots(figsize=(795/80, 835/80))\n",
        "ax.yaxis.set_major_formatter(FormatStrFormatter('%.2f'))\n",
        "plt.yticks(rotation=90, va='center')\n",
        "ax.xaxis.set_major_formatter(FormatStrFormatter('%.2f'))\n",
        "cmap = mpl.colors.ListedColormap(['red','lightgreen','darkgreen','yellow','blue','lightyellow','gray'])\n",
        "image = plt.imshow(rf_prediction_arr, cmap=cmap, extent=extent, interpolation='nearest')\n",
        "divider = make_axes_locatable(ax)\n",
        "cax = divider.new_vertical(size='5%', pad=0.5, pack_start=True)\n",
        "fig.add_axes(cax)\n",
        "cbar = plt.colorbar(image, orientation='horizontal', label='Alteration Type', cax=cax)\n",
        "tick_locs = (np.arange(n_class_pos)+0.5)*(n_class_pos-1)/n_class_pos\n",
        "cbar.set_ticks(tick_locs)\n",
        "cbar.set_ticklabels(['Urban', 'Crop/Grass', 'Trees', 'Bare', 'Water','Coastal','Wetland'])\n",
        "plt.grid(False)"
      ]
    }
  ],
  "metadata": {
    "colab": {
      "provenance": []
    },
    "kernelspec": {
      "display_name": "Python 3",
      "name": "python3"
    },
    "language_info": {
      "name": "python"
    }
  },
  "nbformat": 4,
  "nbformat_minor": 0
}