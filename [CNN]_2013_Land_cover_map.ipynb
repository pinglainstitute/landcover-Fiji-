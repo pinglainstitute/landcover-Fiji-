{
  "cells": [
    {
      "cell_type": "code",
      "execution_count": null,
      "metadata": {
        "id": "ib5SOiFGknCO"
      },
      "outputs": [],
      "source": [
        "!pip install contextily\n",
        "!pip install pyrsgis"
      ]
    },
    {
      "cell_type": "code",
      "execution_count": null,
      "metadata": {
        "id": "yM185B3Okynh"
      },
      "outputs": [],
      "source": [
        "import contextily as cx\n",
        "from ipywidgets import interact\n",
        "from math import floor\n",
        "import matplotlib as mpl\n",
        "import matplotlib.cm as cm\n",
        "import matplotlib.pyplot as plt\n",
        "from matplotlib.ticker import FormatStrFormatter, MaxNLocator\n",
        "from mpl_toolkits.axes_grid1 import make_axes_locatable\n",
        "import numpy as np\n",
        "import pandas as pd\n",
        "from pyrsgis import raster\n",
        "from pyrsgis.ml import imageChipsFromArray\n",
        "import random\n",
        "import seaborn as sns\n",
        "from sklearn.metrics import accuracy_score, auc, confusion_matrix, f1_score, precision_score, recall_score, roc_auc_score, roc_curve\n",
        "from sklearn.preprocessing import StandardScaler, MinMaxScaler\n",
        "from statistics import mean\n",
        "import tensorflow as tf\n",
        "import rasterio\n",
        "import torch\n",
        "from torchvision import datasets, transforms"
      ]
    },
    {
      "cell_type": "code",
      "execution_count": null,
      "metadata": {
        "id": "C0CgPpE3BoAk"
      },
      "outputs": [],
      "source": [
        "from google.colab import drive\n",
        "drive.mount('/content/drive')"
      ]
    },
    {
      "cell_type": "code",
      "execution_count": null,
      "metadata": {
        "id": "kU1qiiROlJCA"
      },
      "outputs": [],
      "source": [
        "# file names\n",
        "feature_file = '/content/drive/MyDrive/Nadi_data_new/2013_original.tif'"
      ]
    },
    {
      "cell_type": "code",
      "execution_count": null,
      "metadata": {
        "id": "ATmxIkyok4sk"
      },
      "outputs": [],
      "source": [
        "# read the image\n",
        "dsFeatures, arrFeatures = raster.read(feature_file, bands='all')\n",
        "min_x = dsFeatures.bbox[0][0]\n",
        "max_x = dsFeatures.bbox[1][0]\n",
        "min_y = dsFeatures.bbox[0][1]\n",
        "max_y = dsFeatures.bbox[1][1]\n",
        "\n",
        "extent = [min_x, max_x, min_y, max_y]"
      ]
    },
    {
      "cell_type": "code",
      "execution_count": null,
      "metadata": {
        "id": "j-74jSe6CM19"
      },
      "outputs": [],
      "source": [
        "extent"
      ]
    },
    {
      "cell_type": "code",
      "execution_count": null,
      "metadata": {
        "id": "zP2a8_IHk8bP"
      },
      "outputs": [],
      "source": [
        "arrFeatures.shape"
      ]
    },
    {
      "cell_type": "code",
      "execution_count": null,
      "metadata": {
        "id": "LdG9i-SwmSEc"
      },
      "outputs": [],
      "source": [
        "def plot_array_stretched(array, label, n):\n",
        "    fig, ax = plt.subplots(figsize=(10, 10))\n",
        "    v_mean = np.array(np.nanmean(array))\n",
        "    v_std = np.array(np.nanstd(array))\n",
        "    ax.yaxis.set_major_formatter(FormatStrFormatter('%.f'))\n",
        "    plt.yticks(rotation=90, va='center')\n",
        "    ax.xaxis.set_major_formatter(FormatStrFormatter('%.f'))\n",
        "    cb = ax.imshow(array, cmap='Greys_r', extent=extent, vmin=v_mean-(n*v_std), vmax=v_mean+(n*v_std))\n",
        "    divider = make_axes_locatable(ax)\n",
        "    cax = divider.new_vertical(size='5%', pad=0.5, pack_start=True)\n",
        "    fig.add_axes(cax)\n",
        "    plt.colorbar(cb, orientation='horizontal', label=label, cax=cax)\n",
        "    plt.grid(False)\n",
        "    plt.show()\n",
        "\n",
        "def plot_array(array, label):\n",
        "    fig, ax = plt.subplots(figsize=(10, 10))\n",
        "    ax.yaxis.set_major_formatter(FormatStrFormatter('%.f'))\n",
        "    plt.yticks(rotation=90, va='center')\n",
        "    ax.xaxis.set_major_formatter(FormatStrFormatter('%.f'))\n",
        "    cb = ax.imshow(array, cmap='Greys_r', extent=extent)\n",
        "    divider = make_axes_locatable(ax)\n",
        "    cax = divider.new_vertical(size='5%', pad=0.5, pack_start=True)\n",
        "    fig.add_axes(cax)\n",
        "    plt.colorbar(cb, orientation='horizontal', label=label, cax=cax)\n",
        "    plt.grid(False)\n",
        "    plt.show()\n",
        "\n",
        "@interact(band=range(1, arrFeatures.shape[0]+1))\n",
        "def show_dist(band):\n",
        "    plot_array_stretched(arrFeatures[band-1, :, :], f'Band {band}', 3)"
      ]
    },
    {
      "cell_type": "code",
      "execution_count": null,
      "metadata": {
        "id": "Im3YCW6UWEWu"
      },
      "outputs": [],
      "source": [
        "np.count_nonzero(np.isnan(arrFeatures))"
      ]
    },
    {
      "cell_type": "markdown",
      "metadata": {
        "id": "cvFTyyNrn4mq"
      },
      "source": [
        "**Chip**"
      ]
    },
    {
      "cell_type": "code",
      "execution_count": null,
      "metadata": {
        "id": "CIGX8eHRn6Ao"
      },
      "outputs": [],
      "source": [
        "import copy\n",
        "from copy import deepcopy\n",
        "from sklearn.feature_extraction import image"
      ]
    },
    {
      "cell_type": "code",
      "execution_count": null,
      "metadata": {
        "id": "HqQqBGsAoGl2"
      },
      "outputs": [],
      "source": [
        "def imageChipsFromSingleBandArray(data_arr, y_size=5, x_size=5):\n",
        "    image_chips = deepcopy(data_arr)\n",
        "    image_chips = np.pad(image_chips, (int(y_size/2),int(x_size/2)), 'reflect')\n",
        "    image_chips = image.extract_patches_2d(image_chips, (y_size, x_size))\n",
        "\n",
        "    return(image_chips)\n",
        "def imageChipsFromArray_update(data_array, x_size=5, y_size=5):\n",
        "\n",
        "    # if array is a single band image\n",
        "    if len(data_array.shape) == 2:\n",
        "        return(imageChipsFromSingleBandArray(data_array, x_size=x_size, y_size=y_size))\n",
        "\n",
        "    # if array is a multi band image\n",
        "    elif len(data_array.shape) > 2:\n",
        "        data_array = copy.copy(data_array)\n",
        "        data_array = np.rollaxis(data_array, 0, 3)\n",
        "\n",
        "        for band in range(data_array.shape[2]):\n",
        "            temp_array = imageChipsFromSingleBandArray(data_array[:, :, band], x_size=x_size, y_size=y_size)\n",
        "\n",
        "            if band == 0:\n",
        "                out_array = np.expand_dims(temp_array, axis=3)\n",
        "            else:\n",
        "                out_array = np.concatenate((out_array, np.expand_dims(temp_array, axis=3)), axis=3)\n",
        "\n",
        "        return(out_array)\n",
        "\n",
        "    # if shape of the image is less than two dimensions, raise error\n",
        "    else:\n",
        "        raise Exception(\"Sorry, only two or three dimensional arrays allowed.\")"
      ]
    },
    {
      "cell_type": "code",
      "execution_count": null,
      "metadata": {
        "id": "NcYe6OGEoPYO"
      },
      "outputs": [],
      "source": [
        "# normalize the image and generate chips\n",
        "arrFeatures_fuzzy = np.zeros(arrFeatures.shape)\n",
        "\n",
        "for i in range(arrFeatures.shape[0]):\n",
        "    bandMin = arrFeatures[i, :, :].min()\n",
        "    bandMax = arrFeatures[i, :, :].max()\n",
        "    bandRange = bandMax-bandMin\n",
        "    for j in range(arrFeatures.shape[1]):\n",
        "        for k in range(arrFeatures.shape[2]):\n",
        "            arrFeatures_fuzzy[i, j, k] = (arrFeatures[i, j, k]-bandMin)/bandRange\n",
        "#create chips using pyrsgis\n",
        "#features_chips = imageChipsFromArray(arrFeatures_fuzzy, x_size=7, y_size=7)\n",
        "features_chips = imageChipsFromArray_update(arrFeatures_fuzzy, x_size=9, y_size=9)"
      ]
    },
    {
      "cell_type": "code",
      "execution_count": null,
      "metadata": {
        "id": "wep4lYKF_Qio"
      },
      "outputs": [],
      "source": [
        "780*818"
      ]
    },
    {
      "cell_type": "code",
      "execution_count": null,
      "metadata": {
        "id": "MLOVC6iaoSP8"
      },
      "outputs": [],
      "source": [
        "features_chips.shape"
      ]
    },
    {
      "cell_type": "markdown",
      "metadata": {
        "id": "2zQuKHIoogOV"
      },
      "source": [
        "**Loading the training dataset (manual)**"
      ]
    },
    {
      "cell_type": "code",
      "execution_count": null,
      "metadata": {
        "id": "tXLfQBhkokjs"
      },
      "outputs": [],
      "source": [
        "positiveLabel_file = '/content/drive/MyDrive/Nadi_data_new/Label_2013_Nadi_1750_samples.tif'"
      ]
    },
    {
      "cell_type": "code",
      "execution_count": null,
      "metadata": {
        "id": "dWNRTJ-HpQ3F"
      },
      "outputs": [],
      "source": [
        "_dsPositiveLabels, arrPositiveLabels = raster.read(positiveLabel_file,bands='all')\n"
      ]
    },
    {
      "cell_type": "code",
      "execution_count": null,
      "metadata": {
        "id": "UFXPLtHhB0E4"
      },
      "outputs": [],
      "source": [
        "arrPositiveLabels.shape"
      ]
    },
    {
      "cell_type": "code",
      "execution_count": null,
      "metadata": {
        "id": "LlE6GdiqB_d6"
      },
      "outputs": [],
      "source": [
        "np.unique(arrPositiveLabels)"
      ]
    },
    {
      "cell_type": "code",
      "execution_count": null,
      "metadata": {
        "id": "wK0js7bjpScj"
      },
      "outputs": [],
      "source": [
        "n_class_pos = len(np.unique(arrPositiveLabels))"
      ]
    },
    {
      "cell_type": "code",
      "execution_count": null,
      "metadata": {
        "id": "ajKWEM0epXwP"
      },
      "outputs": [],
      "source": [
        "n_class_pos"
      ]
    },
    {
      "cell_type": "code",
      "execution_count": null,
      "metadata": {
        "id": "CNXAR9kP9awu"
      },
      "outputs": [],
      "source": [
        "fig, ax = plt.subplots(figsize=(15, 15))\n",
        "ax.yaxis.set_major_formatter(FormatStrFormatter('%.2f'))\n",
        "plt.yticks(rotation=90, va='center')\n",
        "ax.xaxis.set_major_formatter(FormatStrFormatter('%.2f'))\n",
        "cmap = mpl.colors.ListedColormap([\"white\",'red','lightgreen','darkgreen','yellow','blue','lightyellow','pink'])\n",
        "image = plt.imshow(arrPositiveLabels, cmap=cmap, extent=extent, interpolation='nearest')\n",
        "divider = make_axes_locatable(ax)\n",
        "cax = divider.new_vertical(size='5%', pad=0.5, pack_start=True)\n",
        "fig.add_axes(cax)\n",
        "cbar = plt.colorbar(image, orientation='horizontal', label='Alteration Type', cax=cax)\n",
        "tick_locs = (np.arange(n_class_pos)-0.5)*(n_class_pos-1)/n_class_pos\n",
        "cbar.set_ticks(tick_locs)\n",
        "# Urban Areas, Grass/Agricultural Land, Forest, Bare Soil, Water Bodies, Coastal Areas\n",
        "cbar.set_ticklabels([\"Background\",'Urban Areas','Grass/Agricultural Land','Forest','Bare Soil','Water Bodies','Coastal Areas','Alluvium'])\n",
        "plt.grid(False)"
      ]
    },
    {
      "cell_type": "markdown",
      "metadata": {
        "id": "2Rg1sO0T-UyP"
      },
      "source": [
        "**Sampling**"
      ]
    },
    {
      "cell_type": "code",
      "execution_count": null,
      "metadata": {
        "id": "mGw9-Ldmx3aN"
      },
      "outputs": [],
      "source": [
        "arrPositiveLabels=arrPositiveLabels+1\n",
        "np.unique(arrPositiveLabels)"
      ]
    },
    {
      "cell_type": "code",
      "execution_count": null,
      "metadata": {
        "id": "fQODXvyLx-fs"
      },
      "outputs": [],
      "source": [
        "# generate random samples\n",
        "nonZero_count = np.count_nonzero(arrPositiveLabels)\n",
        "index = np.transpose(np.where(arrPositiveLabels==0))\n",
        "index = index.astype(int)\n",
        "randomIndex = random.sample(range(index.shape[0]), int(nonZero_count/(n_class_pos-1)))\n",
        "arrNegativeLabels = np.zeros(arrPositiveLabels.shape)\n",
        "\n",
        "for i in range(len(randomIndex)):\n",
        "    arrNegativeLabels[index[randomIndex[i], 0], index[randomIndex[i], 1]] = n_class_pos # max value of labels plus one which equals n_class\n",
        "\n",
        "arrPositiveLabels_flat = arrPositiveLabels.flatten()\n",
        "arrNegativeLabels_flat = arrNegativeLabels.flatten()\n",
        "# separate and balance the classes\n",
        "positiveFeatures = features_chips[arrPositiveLabels_flat!=0]\n",
        "positiveLabels = arrPositiveLabels_flat[arrPositiveLabels_flat!=0]\n",
        "\n",
        "\n",
        "#negativeFeatures = features_chips[arrNegativeLabels_flat==n_class_pos]\n",
        "#negativeLabels = arrNegativeLabels_flat[arrNegativeLabels_flat==n_class_pos]\n",
        "# combine the balanced features\n",
        "# features = np.concatenate((positiveFeatures, negativeFeatures), axis=0)\n",
        "# labels = np.concatenate((positiveLabels, negativeLabels), axis=0)\n",
        "# labels[labels==n_class_pos] = 0\n",
        "\n",
        "#Exclude the background\n",
        "features=positiveFeatures\n",
        "labels=positiveLabels"
      ]
    },
    {
      "cell_type": "code",
      "execution_count": null,
      "metadata": {
        "id": "97kHug9bKzu-"
      },
      "outputs": [],
      "source": [
        "len(features_chips[arrPositiveLabels_flat==6])"
      ]
    },
    {
      "cell_type": "code",
      "execution_count": null,
      "metadata": {
        "id": "0MHwfVZBK2fg"
      },
      "outputs": [],
      "source": [
        "temp = 250-91"
      ]
    },
    {
      "cell_type": "code",
      "execution_count": null,
      "metadata": {
        "id": "F0IrKLXCLEKS"
      },
      "outputs": [],
      "source": [
        "from sklearn.utils import resample\n",
        "coastal_upsample = resample(features_chips[arrPositiveLabels_flat==6],\n",
        "             replace=True,\n",
        "             n_samples=temp,\n",
        "             random_state=42)"
      ]
    },
    {
      "cell_type": "code",
      "execution_count": null,
      "metadata": {
        "id": "JDgOa7FJLHyl"
      },
      "outputs": [],
      "source": [
        "coastal_upsample.shape"
      ]
    },
    {
      "cell_type": "code",
      "execution_count": null,
      "metadata": {
        "id": "_N6b3LoqLMca"
      },
      "outputs": [],
      "source": [
        "arr = np.concatenate((features, coastal_upsample), axis=0)"
      ]
    },
    {
      "cell_type": "code",
      "execution_count": null,
      "metadata": {
        "id": "qC_WZHjeLRaX"
      },
      "outputs": [],
      "source": [
        "features=arr"
      ]
    },
    {
      "cell_type": "code",
      "execution_count": null,
      "metadata": {
        "id": "mFlVkEReLVAT"
      },
      "outputs": [],
      "source": [
        "features.shape"
      ]
    },
    {
      "cell_type": "code",
      "execution_count": null,
      "metadata": {
        "id": "9dAawtXMLXnK"
      },
      "outputs": [],
      "source": [
        "coastal_label=[6]*temp"
      ]
    },
    {
      "cell_type": "code",
      "execution_count": null,
      "metadata": {
        "id": "9OY68m7JLZls"
      },
      "outputs": [],
      "source": [
        "type(coastal_label)"
      ]
    },
    {
      "cell_type": "code",
      "execution_count": null,
      "metadata": {
        "id": "CH-qWBKFLhRw"
      },
      "outputs": [],
      "source": [
        "new_label=np.concatenate((labels,coastal_label),axis=0)"
      ]
    },
    {
      "cell_type": "code",
      "execution_count": null,
      "metadata": {
        "id": "LxwwCuK6LkRb"
      },
      "outputs": [],
      "source": [
        "labels=new_label"
      ]
    },
    {
      "cell_type": "code",
      "execution_count": null,
      "metadata": {
        "id": "me3yq40uyDv6"
      },
      "outputs": [],
      "source": [
        "np.unique(labels)"
      ]
    },
    {
      "cell_type": "code",
      "execution_count": null,
      "metadata": {
        "id": "h_YkTDb6yFhK"
      },
      "outputs": [],
      "source": [
        "labels=labels-1"
      ]
    },
    {
      "cell_type": "code",
      "execution_count": null,
      "metadata": {
        "id": "RQ1xmdsfyIst"
      },
      "outputs": [],
      "source": [
        "np.unique(labels)"
      ]
    },
    {
      "cell_type": "code",
      "execution_count": null,
      "metadata": {
        "id": "Ui_IV9g8yL9B"
      },
      "outputs": [],
      "source": [
        "n_class_pos = len(np.unique(labels))\n",
        "print(n_class_pos)"
      ]
    },
    {
      "cell_type": "code",
      "execution_count": null,
      "metadata": {
        "id": "b6l2fT4YyPEp"
      },
      "outputs": [],
      "source": [
        "labels_df=pd.DataFrame()\n",
        "labels_df['labels']=labels\n",
        "labels_df['labels'].value_counts()"
      ]
    },
    {
      "cell_type": "markdown",
      "metadata": {
        "id": "AhBwJl5syTNn"
      },
      "source": [
        "SPLIT"
      ]
    },
    {
      "cell_type": "markdown",
      "metadata": {
        "id": "xrRRUqdJR5TN"
      },
      "source": [
        "*****"
      ]
    },
    {
      "cell_type": "code",
      "execution_count": null,
      "metadata": {
        "id": "ezJHXgM1R4fg"
      },
      "outputs": [],
      "source": [
        "# # define a function to split features and labels\n",
        "def train_test_split(features, labels, n_class_pos=n_class_pos, trainProp=0.7):\n",
        "    labels_df=pd.DataFrame()\n",
        "    labels_df['labels']=labels\n",
        "    labels_df.reset_index(inplace=True)\n",
        "    labels_df['labels']=labels_df['labels'].astype(int)\n",
        "\n",
        "    train_list=[]\n",
        "    test_list=[]\n",
        "    for class_index in range(n_class_pos):\n",
        "      sub_labels_df=labels_df[labels_df['labels'] == class_index ]\n",
        "      dataSize=len(sub_labels_df['index'])\n",
        "      sliceIndex = int(dataSize*trainProp)\n",
        "      randIndex = list(sub_labels_df['index'])\n",
        "      #random.seed(45)\n",
        "      random.shuffle(randIndex)\n",
        "\n",
        "      sub_train_list=randIndex[:sliceIndex]\n",
        "      train_list = train_list + sub_train_list\n",
        "\n",
        "      sub_test_list=randIndex[sliceIndex:]\n",
        "      test_list = test_list + sub_test_list\n",
        "\n",
        "    train_x = features[[train_list], :, :, :][0]\n",
        "    test_x = features[[test_list], :, :, :][0]\n",
        "    train_y = labels[train_list]\n",
        "    test_y = labels[test_list]\n",
        "    return(train_x, train_y, test_x, test_y)\n",
        "\n",
        "# call the function to split the dataset\n",
        "train_x, train_y, test_x, test_y = train_test_split(features, labels)"
      ]
    },
    {
      "cell_type": "code",
      "execution_count": null,
      "metadata": {
        "id": "IJ8M_ht1yYBC"
      },
      "outputs": [],
      "source": [
        "features.shape"
      ]
    },
    {
      "cell_type": "code",
      "execution_count": null,
      "metadata": {
        "id": "RnMxldoTyb_F"
      },
      "outputs": [],
      "source": [
        "train_x.shape"
      ]
    },
    {
      "cell_type": "code",
      "execution_count": null,
      "metadata": {
        "id": "hydCx8Pyyg1P"
      },
      "outputs": [],
      "source": [
        "test_x.shape"
      ]
    },
    {
      "cell_type": "code",
      "execution_count": null,
      "metadata": {
        "id": "RSolmerx0q1_"
      },
      "outputs": [],
      "source": [
        "# Label_aside file use random.seed(35)\n",
        "# 1106 Label file use random.seed(45)\n",
        "train_y_df=pd.DataFrame()\n",
        "train_y_df['labels']=train_y\n",
        "train_y_df['labels'].value_counts()"
      ]
    },
    {
      "cell_type": "code",
      "execution_count": null,
      "metadata": {
        "id": "BTRt1nfg0129"
      },
      "outputs": [],
      "source": [
        "test_y_df=pd.DataFrame()\n",
        "test_y_df['labels']=test_y\n",
        "test_y_df['labels'].value_counts()"
      ]
    },
    {
      "cell_type": "markdown",
      "metadata": {
        "id": "aZ9kSP6nyyhy"
      },
      "source": [
        "**MODEL**"
      ]
    },
    {
      "cell_type": "code",
      "execution_count": null,
      "metadata": {
        "id": "NbuJ_D2gy08e"
      },
      "outputs": [],
      "source": [
        "def roc_auc(model, test_x, test_y, n_classes):\n",
        "    roc_auc = []\n",
        "    test_z = model.predict(test_x)\n",
        "    test_y_dummies = pd.get_dummies(test_y).values\n",
        "\n",
        "    for i in range(n_classes):\n",
        "        roc_auc.append(roc_auc_score(test_y_dummies[:, i], test_z[:, i]))\n",
        "\n",
        "    return roc_auc\n",
        "\n",
        "# plot any graph relating to any model\n",
        "def plot_metric(history, metric):\n",
        "    train_metrics = history.history[metric]\n",
        "    val_metrics = history.history['val_'+metric]\n",
        "    epochs = range(1, len(train_metrics)+1)\n",
        "    plt.plot(epochs, train_metrics)\n",
        "    plt.plot(epochs, val_metrics)\n",
        "    plt.title('Training and Testing '+metric.capitalize())\n",
        "    plt.xlabel('Epochs')\n",
        "    plt.ylabel(metric.capitalize())\n",
        "    plt.legend(['Training '+metric.capitalize(), 'Testing '+metric.capitalize()])\n",
        "    plt.show()\n",
        "\n",
        "def roc_plot(test_y, test_z, n_classes, labels_name, average='macro'):\n",
        "    fpr = {}\n",
        "    tpr = {}\n",
        "    roc_auc = {}\n",
        "\n",
        "    test_y_dummies = pd.get_dummies(test_y).values\n",
        "\n",
        "    for i in range(n_classes):\n",
        "        fpr[i], tpr[i], _ = roc_curve(test_y_dummies[:, i], test_z[:, i])\n",
        "        roc_auc[i] = auc(fpr[i], tpr[i])\n",
        "\n",
        "    # roc for each class\n",
        "    fig, ax = plt.subplots()\n",
        "    ax.plot([0, 1], [0, 1], 'k--')\n",
        "    ax.set_xlim([0.0, 1.0])\n",
        "    ax.set_ylim([0.0, 1.05])\n",
        "    ax.set_xlabel('False Positive Rate')\n",
        "    ax.set_ylabel('True Positive Rate')\n",
        "    ax.set_title('Receiver Operating Characteristic')\n",
        "\n",
        "    for i in range(n_classes):\n",
        "        ax.plot(fpr[i], tpr[i], label='{}, AUC = {}'.format(labels_name[i], '{0:.4f}'.format(roc_auc[i])))\n",
        "\n",
        "    ax.legend(loc='best')\n",
        "    ax.grid(alpha=0.5)\n",
        "    sns.despine()\n",
        "    plt.show()\n",
        "    print('ROC AUC score:', roc_auc_score(test_y_dummies, test_z, average=average))\n",
        "\n",
        "best_model = tf.keras.models.Sequential()\n",
        "best_accuracy = 0\n",
        "best_history = None\n",
        "###*********************************#######################\n",
        "experimental_runs = 10\n",
        "cv = 10\n",
        "#'Urban','Crop/Grass','Trees','Bare','Water','Coastal']\n",
        "metrics_columns = ['Accuracy', 'Precision', 'Recall', 'F1 Score','AUC_Urban Areas','AUC_Grass/Agricultural Land','AUC_Forest','AUC_Bare Soil','AUC_Water Bodies','AUC_Coastal Areas','AUC_Alluvium','Roc_auc_mean']\n",
        "temp_metrics_df = pd.DataFrame(np.zeros((cv, len(metrics_columns))), columns=metrics_columns)\n",
        "\n",
        "for i in range(experimental_runs):\n",
        "    model = tf.keras.models.Sequential()\n",
        "    model.add(tf.keras.layers.Conv2D(32, kernel_size=1, padding='valid', activation='relu', input_shape=(train_x.shape[1], train_x.shape[2], train_x.shape[3])))\n",
        "    model.add(tf.keras.layers.Dropout(0.25))\n",
        "    model.add(tf.keras.layers.Conv2D(48, kernel_size=1, padding='valid', activation='relu'))\n",
        "    model.add(tf.keras.layers.Dropout(0.25))\n",
        "    model.add(tf.keras.layers.Conv2D(64, kernel_size=1, padding='valid', activation='relu'))\n",
        "    model.add(tf.keras.layers.Dropout(0.5))\n",
        "    model.add(tf.keras.layers.Flatten())\n",
        "    model.add(tf.keras.layers.Dense(80, activation='relu'))\n",
        "    model.add(tf.keras.layers.Dropout(0.5))\n",
        "    model.add(tf.keras.layers.Dense(7, activation='softmax')) #Change the number of last layer based on the output types =====> the categories is 5\n",
        "\n",
        "    model.compile(loss='sparse_categorical_crossentropy', optimizer='adam', metrics=['accuracy'])\n",
        "\n",
        "    ###*********************************#######################\n",
        "    history = model.fit(train_x, train_y, epochs=100, validation_data=(test_x, test_y))\n",
        "\n",
        "    for j in range(cv):\n",
        "        train_x, train_y, test_x, test_y = train_test_split(features, labels)\n",
        "        # predict for the test dataset\n",
        "        test_z = model.predict(test_x)\n",
        "        # calculate and display error metrics\n",
        "        test_z_class = test_z.argmax(axis=1)\n",
        "\n",
        "        aScore = accuracy_score(test_y, test_z_class)\n",
        "        pScore = precision_score(test_y, test_z_class, average='macro')\n",
        "        rScore = recall_score(test_y, test_z_class, average='macro')\n",
        "        fScore = f1_score(test_y, test_z_class, average='macro')\n",
        "        cMatrix = confusion_matrix(test_y, test_z_class)\n",
        "        metrics_array = [aScore, pScore, rScore, fScore]\n",
        "        roc_auc_class = roc_auc(model, test_x, test_y, n_class_pos)\n",
        "\n",
        "        for k in range(n_class_pos):\n",
        "            metrics_array.append(roc_auc_class[k])\n",
        "\n",
        "        roc_auc_mean = mean(roc_auc_class)\n",
        "        metrics_array.append(roc_auc_mean)\n",
        "        temp_metrics_df.loc[j] = metrics_array\n",
        "\n",
        "        if j==cv-1:\n",
        "            # accuracy can be replaced with other scores\n",
        "            aScore_avg = temp_metrics_df['Accuracy'].mean()\n",
        "\n",
        "            if best_accuracy < aScore_avg:\n",
        "                best_model = model\n",
        "                best_accuracy_avg = aScore_avg\n",
        "                best_history = history\n",
        "\n",
        "print(f'\\nBest Average Accuracy:\\n{best_accuracy_avg}')\n",
        "\n",
        "test_z = best_model.predict(test_x)\n",
        "test_z_class = test_z.argmax(axis=1)\n",
        "aScore = accuracy_score(test_y, test_z_class)\n",
        "pScore = precision_score(test_y, test_z_class, average='macro')\n",
        "rScore = recall_score(test_y, test_z_class, average='macro')\n",
        "fScore = f1_score(test_y, test_z_class, average='macro')\n",
        "cMatrix = confusion_matrix(test_y, test_z_class)\n",
        "metrics_array = [aScore, pScore, rScore, fScore]\n",
        "roc_auc_class = roc_auc(best_model, test_x, test_y, n_class_pos)\n",
        "metrics_array.extend(roc_auc_class)\n",
        "roc_auc_mean = mean(roc_auc_class)\n",
        "metrics_array.append(roc_auc_mean)\n",
        "\n",
        "print(f'\\nConfusion Matrix:\\n{cMatrix}')\n",
        "print(f'\\nAccuracy: {aScore}')\n",
        "print(f'\\nPrecision: {pScore}')\n",
        "print(f'\\nRecall: {rScore}')\n",
        "print(f'\\nF1 Score: {fScore}')\n",
        "\n",
        "plot_metric(history, 'loss')\n",
        "print('')\n",
        "plot_metric(history, 'accuracy')\n",
        "labels_name = ['Urban Areas','Grass/Agricultural Land','Forest','Bare Soil','Water Bodies','Coastal Areas','Alluvium'] #Labels name should be the same with the class\n",
        "roc_plot(test_y, test_z, n_class_pos, labels_name)\n"
      ]
    },
    {
      "cell_type": "code",
      "execution_count": null,
      "metadata": {
        "id": "TzUEO0-AGXn_"
      },
      "outputs": [],
      "source": [
        "features_chips.shape"
      ]
    },
    {
      "cell_type": "code",
      "execution_count": null,
      "metadata": {
        "id": "uqkJq3XKGaJn"
      },
      "outputs": [],
      "source": [
        "features_chips_prediction_Nadi_2013=best_model.predict(features_chips)\n",
        "features_chips_prediction_Nadi_2013.shape"
      ]
    },
    {
      "cell_type": "code",
      "execution_count": null,
      "metadata": {
        "id": "CH5ZvsWiXqVp"
      },
      "outputs": [],
      "source": [
        "best_model.save('/content/drive/MyDrive/Nadi_data_new2/Nadi_2013_model_700_samples.keras')"
      ]
    },
    {
      "cell_type": "code",
      "execution_count": null,
      "metadata": {
        "id": "bGpB0E-hu1gg"
      },
      "outputs": [],
      "source": [
        "features_chips_class_Nadi_2013 = features_chips_prediction_Nadi_2013.argmax(axis=1)\n",
        "features_chips_class_Nadi_2013.shape"
      ]
    },
    {
      "cell_type": "code",
      "execution_count": null,
      "metadata": {
        "id": "GLEwoxDGu3yG"
      },
      "outputs": [],
      "source": [
        "features_chips_prediction_arr_Nadi_2013=features_chips_class_Nadi_2013.reshape((780, 818))\n",
        "features_chips_prediction_arr_Nadi_2013.shape"
      ]
    },
    {
      "cell_type": "code",
      "execution_count": null,
      "metadata": {
        "id": "IaOtZ-R8HDmm"
      },
      "outputs": [],
      "source": [
        "fig, ax = plt.subplots(figsize=(10, 10))\n",
        "ax.yaxis.set_major_formatter(FormatStrFormatter('%.f'))\n",
        "plt.yticks(rotation=90, va='center')\n",
        "ax.xaxis.set_major_formatter(FormatStrFormatter('%.f'))\n",
        "cmap = mpl.colors.ListedColormap(['red','lightgreen','darkgreen','yellow','blue','lightyellow','gray'])\n",
        "image = plt.imshow(features_chips_prediction_arr_Nadi_2013, cmap=cmap, extent=extent, interpolation='nearest')\n",
        "divider = make_axes_locatable(ax)\n",
        "cax = divider.new_vertical(size='5%', pad=0.5, pack_start=True)\n",
        "fig.add_axes(cax)\n",
        "cbar = plt.colorbar(image, orientation='horizontal', label='Alteration Type', cax=cax)\n",
        "tick_locs = (np.arange(n_class_pos) +0.5)*(n_class_pos-1)/n_class_pos\n",
        "cbar.set_ticks(tick_locs)\n",
        "cbar.set_ticklabels(['Urban','Crop/Grass','Trees','Bare','Water','Coastal','Alluvium'])\n",
        "plt.grid(False)\n",
        "\n",
        "\n",
        "##########################################\n",
        "# Algorthm: CNN\n",
        "# Location: Nadi\n",
        "# Time: 2013\n",
        "##########################################"
      ]
    },
    {
      "cell_type": "markdown",
      "metadata": {
        "id": "86PbPjbjAba6"
      },
      "source": [
        "This is 2013 image"
      ]
    },
    {
      "cell_type": "markdown",
      "metadata": {
        "id": "MyzUf3a_AW8v"
      },
      "source": [
        "*****"
      ]
    },
    {
      "cell_type": "code",
      "execution_count": null,
      "metadata": {
        "id": "8w02EV3wvEtR"
      },
      "outputs": [],
      "source": [
        "# 2013 Array\n",
        "features_chips_prediction_arr_Nadi_2013"
      ]
    },
    {
      "cell_type": "code",
      "execution_count": null,
      "metadata": {
        "id": "VKPlgubYFadg"
      },
      "outputs": [],
      "source": [
        "features_chips_prediction_arr_Nadi_2013.shape"
      ]
    },
    {
      "cell_type": "code",
      "execution_count": null,
      "metadata": {
        "id": "E4025tQatVQP"
      },
      "outputs": [],
      "source": [
        "\n",
        "Urban_Nadi_2013 = np.where(Mapped_Nadi_2013_arr==0,1,0)\n",
        "\n",
        "print(f\"Image size: {Urban_Nadi_2013.shape}\")\n",
        "print(f\"np.count_nonzero(Urban_Nadi_2013): {np.count_nonzero(Urban_Nadi_2013)}\")"
      ]
    },
    {
      "cell_type": "code",
      "execution_count": null,
      "metadata": {
        "id": "nQ4wWZd-jyid"
      },
      "outputs": [],
      "source": [
        "24946/(795*835)"
      ]
    },
    {
      "cell_type": "code",
      "execution_count": null,
      "metadata": {
        "id": "9Y3Z16Zhtich"
      },
      "outputs": [],
      "source": [
        "plt.figure(figsize=(10,10))\n",
        "plt.imshow(Urban_Nadi_2013)"
      ]
    }
  ],
  "metadata": {
    "colab": {
      "machine_shape": "hm",
      "provenance": []
    },
    "kernelspec": {
      "display_name": "Python 3",
      "name": "python3"
    },
    "language_info": {
      "name": "python"
    }
  },
  "nbformat": 4,
  "nbformat_minor": 0
}